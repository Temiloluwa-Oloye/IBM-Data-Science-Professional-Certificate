{
 "cells": [
  {
   "cell_type": "markdown",
   "id": "0209339d-3e6f-4f45-8b7f-5016b36385fe",
   "metadata": {},
   "source": [
    "# Data Science Tools and Ecosystem"
   ]
  },
  {
   "cell_type": "markdown",
   "id": "1a8b66ec-5e25-4ea2-a2b1-0c5c581a8a6a",
   "metadata": {},
   "source": [
    "In this notebook, Data Science Tools and Ecosystem are summarized."
   ]
  },
  {
   "cell_type": "markdown",
   "id": "af9da109-163b-42a2-ab3f-953e4f208ba9",
   "metadata": {},
   "source": [
    "**Objectives:**\n",
    "- List popular languages for Data Science\n",
    "- List popular libraries for Data Science\n",
    "- List popular Data Science Tools\n",
    "- Evaluating Arithmetic Expressions in Python\n"
   ]
  },
  {
   "cell_type": "markdown",
   "id": "f489e056-a5b7-44c3-a6f5-e441bb090f76",
   "metadata": {},
   "source": [
    "Some of the popular languages that Data Scientists use are:\n",
    "1. Python\n",
    "2. R\n",
    "3. Scala\n",
    "4. Java"
   ]
  },
  {
   "cell_type": "markdown",
   "id": "63f0182b-2193-4060-acaf-acdd347778e1",
   "metadata": {},
   "source": [
    "Some of the commonly used libraries used by Data Scientists include:\n",
    "1. Pandas\n",
    "2. Matplotlib\n",
    "3. Scikit Learn\n",
    "4. Numpy"
   ]
  },
  {
   "cell_type": "markdown",
   "id": "13a08199-3b4d-4225-951d-133c9ec1d78d",
   "metadata": {},
   "source": [
    "| Data Science Tools |\n",
    "|--------------------|\n",
    "| Git|\n",
    "| Jupyter Notebook |\n",
    "| Kafka |"
   ]
  },
  {
   "cell_type": "markdown",
   "id": "3422db60-0908-4c3e-81b7-9e4234511055",
   "metadata": {},
   "source": [
    "### Below are a few examples of evaluating arithmetic expressions in Python"
   ]
  },
  {
   "cell_type": "code",
   "execution_count": 5,
   "id": "f6bf425c-116e-413f-ae84-aa447135e77c",
   "metadata": {},
   "outputs": [
    {
     "data": {
      "text/plain": [
       "17"
      ]
     },
     "execution_count": 5,
     "metadata": {},
     "output_type": "execute_result"
    }
   ],
   "source": [
    "# This a simple arithmetic expression to mutiply then add integers\n",
    "(3*4)+5"
   ]
  },
  {
   "cell_type": "code",
   "execution_count": 6,
   "id": "ee453d0f-8593-4ffe-9f5d-cae15ece78bc",
   "metadata": {},
   "outputs": [
    {
     "data": {
      "text/plain": [
       "3.3333333333333335"
      ]
     },
     "execution_count": 6,
     "metadata": {},
     "output_type": "execute_result"
    }
   ],
   "source": [
    "# This will convert 200 minutes to hours by diving by 60\n",
    "m = 200\n",
    "h = m/60\n",
    "h"
   ]
  },
  {
   "cell_type": "markdown",
   "id": "d4c59c09-f434-4f70-a71c-95f4bbbf7826",
   "metadata": {},
   "source": [
    "## Author\n",
    "Temiloluwa Oloye"
   ]
  },
  {
   "cell_type": "code",
   "execution_count": null,
   "id": "4e0eeadf-3bf8-4c15-8356-5c1fcc00d5ee",
   "metadata": {},
   "outputs": [],
   "source": []
  }
 ],
 "metadata": {
  "kernelspec": {
   "display_name": "Python 3 (ipykernel)",
   "language": "python",
   "name": "python3"
  },
  "language_info": {
   "codemirror_mode": {
    "name": "ipython",
    "version": 3
   },
   "file_extension": ".py",
   "mimetype": "text/x-python",
   "name": "python",
   "nbconvert_exporter": "python",
   "pygments_lexer": "ipython3",
   "version": "3.12.2"
  }
 },
 "nbformat": 4,
 "nbformat_minor": 5
}
